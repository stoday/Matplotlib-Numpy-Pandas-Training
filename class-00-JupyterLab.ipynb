{
 "cells": [
  {
   "cell_type": "markdown",
   "metadata": {
    "slideshow": {
     "slide_type": "slide"
    }
   },
   "source": [
    "# Class 00 - Environemnt & Jupyter lab"
   ]
  },
  {
   "cell_type": "markdown",
   "metadata": {
    "slideshow": {
     "slide_type": "slide"
    }
   },
   "source": [
    "## 1. 安裝環境\n",
    "\n",
    "安裝 Miniconda  \n",
    "[安裝檔下載鏈結](https://docs.conda.io/en/latest/miniconda.html)\n",
    "\n",
    "### 1-1. 建立虛擬環境\n",
    "```\n",
    "conda create -n <環境名稱> python=3.6\n",
    "```"
   ]
  },
  {
   "cell_type": "markdown",
   "metadata": {
    "slideshow": {
     "slide_type": "slide"
    }
   },
   "source": [
    "### 1-2. 列出所有已建立的虛擬環境\n",
    "```\n",
    "conda env list\n",
    "```"
   ]
  },
  {
   "cell_type": "markdown",
   "metadata": {
    "slideshow": {
     "slide_type": "slide"
    }
   },
   "source": [
    "### 1-3. 移除虛擬環境\n",
    "```\n",
    "conda env remove -n <環境名稱>\n",
    "```"
   ]
  },
  {
   "cell_type": "markdown",
   "metadata": {
    "slideshow": {
     "slide_type": "slide"
    }
   },
   "source": [
    "### 1-4. 進入虛擬環境中工作\n",
    "\n",
    "Linux:\n",
    "```\n",
    "source activate <環境名稱>\n",
    "```\n",
    "Windows:\n",
    "```\n",
    "activate <環境名稱>\n",
    "```"
   ]
  },
  {
   "cell_type": "markdown",
   "metadata": {
    "slideshow": {
     "slide_type": "slide"
    }
   },
   "source": [
    "### 1-5. 安裝套件\n",
    "```\n",
    "conda install matplotlib numpy pandas scikit-learn tpot tensorflow keras tqdm seaborn jupyterlab spyder\n",
    "```"
   ]
  },
  {
   "cell_type": "markdown",
   "metadata": {
    "slideshow": {
     "slide_type": "slide"
    }
   },
   "source": [
    "### 1.6 列出已安裝套件\n",
    "```\n",
    "conda list\n",
    "```"
   ]
  },
  {
   "cell_type": "markdown",
   "metadata": {
    "slideshow": {
     "slide_type": "slide"
    }
   },
   "source": [
    "### 1-7. 移除套件\n",
    "```\n",
    "conda uninstall <套件名稱>\n",
    "```"
   ]
  },
  {
   "cell_type": "markdown",
   "metadata": {
    "slideshow": {
     "slide_type": "slide"
    }
   },
   "source": [
    "### 1-8. 升級套件\n",
    "```\n",
    "conda update <套件名稱>\n",
    "```"
   ]
  },
  {
   "cell_type": "markdown",
   "metadata": {
    "slideshow": {
     "slide_type": "slide"
    }
   },
   "source": [
    "### 1-9. 離開虛擬環境\n",
    "Linux:\n",
    "```\n",
    "source deactivate \n",
    "```\n",
    "Windows:\n",
    "```\n",
    "deactivate\n",
    "```"
   ]
  },
  {
   "cell_type": "markdown",
   "metadata": {
    "slideshow": {
     "slide_type": "slide"
    }
   },
   "source": [
    "### 1.10 匯出環境所安裝的套件清單\n",
    "```\n",
    "conda env export > environment.yml\n",
    "```\n",
    "或\n",
    "```\n",
    "conda list --explicit > requirements.txt\n",
    "```\n",
    "或\n",
    "```\n",
    "pip freeze > requirements.txt\n",
    "```"
   ]
  },
  {
   "cell_type": "markdown",
   "metadata": {
    "slideshow": {
     "slide_type": "slide"
    }
   },
   "source": [
    "### 1.11 從套件清單檔案中建立環境\n",
    "```\n",
    "conda env create --file environment.yml\n",
    "```\n",
    "或\n",
    "```\n",
    "conda install --yes --file requirements.txt\n",
    "```\n",
    "或\n",
    "```\n",
    "pip install -r requirements.txt\n",
    "```"
   ]
  },
  {
   "cell_type": "markdown",
   "metadata": {
    "slideshow": {
     "slide_type": "slide"
    }
   },
   "source": [
    "### 1.12 複製一個環境\n",
    "```\n",
    "conda create -n <要建立環境名稱> --clone <原有的環境名稱>\n",
    "```"
   ]
  },
  {
   "cell_type": "markdown",
   "metadata": {
    "slideshow": {
     "slide_type": "slide"
    }
   },
   "source": [
    "### 1.13 附註\n",
    "pip 主要是管理 Python 的套件。所以其他語言寫的套件(像是 C 或是 java 等)就不在 pip 的管理範圍之內了。conda 可以管理的套件就不限定 Python，而且安裝一個 conda 就可以達到 pip 與 virtualenv 兩個所能做到事情之外，還可以很容易地在建立不同版本 Python 環境。用 virtualenv 的話還要先安裝需要的 Python 版本，並且知道不同版本 Python 安裝路徑，很是麻煩。最近出現了 pyenv 與 pipenv 也是可以做到 conda 的事情。pipenv 也是社群官方推薦的工具，將來可以持續觀察，看看是不是用 pyenv + pipenv 來取代 conda。"
   ]
  },
  {
   "cell_type": "markdown",
   "metadata": {
    "slideshow": {
     "slide_type": "slide"
    }
   },
   "source": [
    "## 2. Jupyter Lab\n",
    "Jupyer（以前稱為IPython notebook） 是一種 IDE。Jupyter 可以充分發揮直譯語言的特性，很容易的逐行執行並且做到資料視覺化，而且可輸出成 Html5 嵌入到任何網頁或是 Blog 上，或是用 Notebook 的形式分享。由於易於閱讀、容易分享等優點，許多資料分析、機器學習的平台(ex: Kaggle)上面的討論都是以Jupyter 的形式出現，同時支援多種主流的直譯語言像是Python, R, Julia。"
   ]
  },
  {
   "cell_type": "markdown",
   "metadata": {
    "slideshow": {
     "slide_type": "slide"
    }
   },
   "source": [
    "### 2.1 啟動\n",
    "\n",
    "在命令列或 terminal 中鍵入：\n",
    "\n",
    "```\n",
    "jupyter lab\n",
    "```"
   ]
  },
  {
   "cell_type": "markdown",
   "metadata": {
    "slideshow": {
     "slide_type": "slide"
    }
   },
   "source": [
    "### 2.2 常用操作快捷鍵\n",
    "\n",
    "啟動會看到有一個格子裡面可以輸入程式碼，在 Jupyter 的世界它叫做一個 cell，每一個 cell 都是可以執行的區塊\n",
    "\n",
    "快捷鍵 | 功能\n",
    "----- | -----\n",
    "Ctrl + / | 將游標所在的該段程式碼標記為註解\n",
    "Enter | 進入 Edit Mode\n",
    "Shift + Enter | 執行這個 cell，並在執行後建立下一個 cell\n",
    "Ctrl + Enter | 執行這個 cell 的程式碼\n",
    "Esc, a | Esc 是從 Edit Mode 跳回 Command Mode 的意思, a 是 above 的意思，在現有的 cell 上方新增一個 cell\n",
    "Esc, b | b 是 below 的意思，在現有的 cell 下方新增一個 cell\n",
    "Shift + Tab | 可以幫助你看到函式的說明，不需要再去google 相關的文件\n",
    "Esc, m | 將 cell 改為 Markdown 的型態\n",
    "Esc, y | 將 cell 改為程式碼的型態\n",
    "Esc, z | 恢復之前 cell 操作\n",
    "Esc, d, d | 刪除現在 Cell\n",
    "Esc, i, i | 重新啟動 kernal\n",
    "Esc. 0, 0 | 停止現在執行程式\n",
    "Shift + Tab | 顯示該函數的 help 資訊"
   ]
  }
 ],
 "metadata": {
  "kernelspec": {
   "display_name": "Python 3",
   "language": "python",
   "name": "python3"
  },
  "language_info": {
   "codemirror_mode": {
    "name": "ipython",
    "version": 3
   },
   "file_extension": ".py",
   "mimetype": "text/x-python",
   "name": "python",
   "nbconvert_exporter": "python",
   "pygments_lexer": "ipython3",
   "version": "3.6.8"
  }
 },
 "nbformat": 4,
 "nbformat_minor": 2
}
